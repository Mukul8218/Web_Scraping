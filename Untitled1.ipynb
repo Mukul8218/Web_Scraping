{
 "cells": [
  {
   "cell_type": "code",
   "execution_count": 11,
   "id": "6b76ae79-c859-483f-83d9-8ab18ae09b61",
   "metadata": {},
   "outputs": [
    {
     "name": "stdout",
     "output_type": "stream",
     "text": [
      "Defaulting to user installation because normal site-packages is not writeable\n",
      "Requirement already satisfied: requests in c:\\users\\asus\\appdata\\roaming\\python\\python313\\site-packages (2.32.3)\n",
      "Requirement already satisfied: charset-normalizer<4,>=2 in c:\\users\\asus\\appdata\\roaming\\python\\python313\\site-packages (from requests) (3.4.1)\n",
      "Requirement already satisfied: idna<4,>=2.5 in c:\\users\\asus\\appdata\\roaming\\python\\python313\\site-packages (from requests) (3.10)\n",
      "Requirement already satisfied: urllib3<3,>=1.21.1 in c:\\users\\asus\\appdata\\roaming\\python\\python313\\site-packages (from requests) (2.4.0)\n",
      "Requirement already satisfied: certifi>=2017.4.17 in c:\\users\\asus\\appdata\\roaming\\python\\python313\\site-packages (from requests) (2025.1.31)\n"
     ]
    },
    {
     "name": "stderr",
     "output_type": "stream",
     "text": [
      "\n",
      "[notice] A new release of pip is available: 24.2 -> 25.0.1\n",
      "[notice] To update, run: python.exe -m pip install --upgrade pip\n"
     ]
    }
   ],
   "source": [
    "!pip install requests"
   ]
  },
  {
   "cell_type": "code",
   "execution_count": 13,
   "id": "07af0144-440a-4f33-9e79-2e1b96285e6f",
   "metadata": {},
   "outputs": [],
   "source": [
    "import requests"
   ]
  },
  {
   "cell_type": "code",
   "execution_count": 14,
   "id": "4fca7015-6b1e-4bac-8573-20895264303c",
   "metadata": {},
   "outputs": [
    {
     "name": "stdout",
     "output_type": "stream",
     "text": [
      "Defaulting to user installation because normal site-packages is not writeable\n",
      "Requirement already satisfied: Beautifulsoup4 in c:\\users\\asus\\appdata\\roaming\\python\\python313\\site-packages (4.13.3)\n",
      "Requirement already satisfied: soupsieve>1.2 in c:\\users\\asus\\appdata\\roaming\\python\\python313\\site-packages (from Beautifulsoup4) (2.6)\n",
      "Requirement already satisfied: typing-extensions>=4.0.0 in c:\\users\\asus\\appdata\\roaming\\python\\python313\\site-packages (from Beautifulsoup4) (4.13.2)\n"
     ]
    },
    {
     "name": "stderr",
     "output_type": "stream",
     "text": [
      "\n",
      "[notice] A new release of pip is available: 24.2 -> 25.0.1\n",
      "[notice] To update, run: python.exe -m pip install --upgrade pip\n"
     ]
    }
   ],
   "source": [
    "!pip install Beautifulsoup4"
   ]
  },
  {
   "cell_type": "code",
   "execution_count": 16,
   "id": "5a85ccac-eca7-435c-826c-923533d5443d",
   "metadata": {},
   "outputs": [],
   "source": [
    "import requests"
   ]
  },
  {
   "cell_type": "code",
   "execution_count": 18,
   "id": "ab123f09-e898-4388-961a-e7abb24c38b0",
   "metadata": {},
   "outputs": [],
   "source": [
    "url=\"https://www.flipkart.com/mobile-phones-store?fm=neo%2Fmerchandising&iid=M_34b1e6e0-3e74-4598-8c50-217576595837_1_372UD5BXDFYS_MC.ZRQ4DKH28K8J&otracker=hp_rich_navigation_2_1.navigationCard.RICH_NAVIGATION_Mobiles_ZRQ4DKH28K8J&otracker1=hp_rich_navigation_PINNED_neo%2Fmerchandising_NA_NAV_EXPANDABLE_navigationCard_cc_2_L0_view-all&cid=ZRQ4DKH28K8J\""
   ]
  },
  {
   "cell_type": "code",
   "execution_count": 20,
   "id": "3af6f29f-91af-4e17-8aa2-e6e442c3da7e",
   "metadata": {},
   "outputs": [],
   "source": [
    "res = requests.get(url)"
   ]
  },
  {
   "cell_type": "code",
   "execution_count": 21,
   "id": "544fce34-f465-4690-affa-ef76bf97ec04",
   "metadata": {},
   "outputs": [
    {
     "data": {
      "text/plain": [
       "200"
      ]
     },
     "execution_count": 21,
     "metadata": {},
     "output_type": "execute_result"
    }
   ],
   "source": [
    "res.status_code"
   ]
  },
  {
   "cell_type": "code",
   "execution_count": 22,
   "id": "97ee135c-cbb5-4152-adf6-fefe5a2ec2e5",
   "metadata": {},
   "outputs": [],
   "source": [
    "data = res.text"
   ]
  },
  {
   "cell_type": "code",
   "execution_count": 23,
   "id": "6c60a4d0-c8e0-4a22-8f9a-eaafe21ad4ec",
   "metadata": {},
   "outputs": [
    {
     "data": {
      "text/plain": [
       "'<!doctype html><html lang=\"en\"><head><link href=\"https://rukminim2.flixcart.com\" rel=\"preconnect\"/><link rel=\"stylesheet\" href=\"//static-assets-web.flixcart.com/fk-p-linchpin-web/fk-cp-zion/css/atlas.chunk.8dd48d.css\"/><link rel=\"stylesheet\" href=\"//static-assets-web.flixcart.com/fk-p-linchpin-web/fk-cp-zion/css/app_modules.chunk.c48a12.css\"/><link rel=\"stylesheet\" href=\"//static-assets-web.flixcart.com/fk-p-linchpin-web/fk-cp-zion/css/app.chunk.e4e719.css\"/><meta http-equiv=\"Content-type\" conte'"
      ]
     },
     "execution_count": 23,
     "metadata": {},
     "output_type": "execute_result"
    }
   ],
   "source": [
    "data[:500]"
   ]
  },
  {
   "cell_type": "code",
   "execution_count": 24,
   "id": "ec979ba3-40d3-45b7-ac67-56d48d9ff67a",
   "metadata": {},
   "outputs": [],
   "source": [
    "from bs4 import BeautifulSoup"
   ]
  },
  {
   "cell_type": "code",
   "execution_count": 25,
   "id": "a49316f0-a10a-4f40-bd5a-0d8e68a1a0f9",
   "metadata": {},
   "outputs": [],
   "source": [
    "soup = BeautifulSoup"
   ]
  },
  {
   "cell_type": "code",
   "execution_count": 26,
   "id": "1fa2a8c4-a14f-4371-b3da-e73cf2eb9192",
   "metadata": {},
   "outputs": [],
   "source": [
    "soup= BeautifulSoup(data,\"html.parser\")"
   ]
  },
  {
   "cell_type": "code",
   "execution_count": 27,
   "id": "439a100d-d51c-4512-bea9-7c32b09408a1",
   "metadata": {},
   "outputs": [
    {
     "data": {
      "text/plain": [
       "2"
      ]
     },
     "execution_count": 27,
     "metadata": {},
     "output_type": "execute_result"
    }
   ],
   "source": [
    "len(soup)"
   ]
  },
  {
   "cell_type": "code",
   "execution_count": 28,
   "id": "9608a797-bc11-418d-8eca-35386be798e6",
   "metadata": {},
   "outputs": [
    {
     "data": {
      "text/plain": [
       "'Apple iPhone 13 (Midnight, 128 GB)'"
      ]
     },
     "execution_count": 28,
     "metadata": {},
     "output_type": "execute_result"
    }
   ],
   "source": [
    "soup.find(\"a\",class_ =\"wjcEIp\").text"
   ]
  },
  {
   "cell_type": "code",
   "execution_count": 29,
   "id": "02722274-8e19-494c-a497-63d457e1f08a",
   "metadata": {},
   "outputs": [
    {
     "data": {
      "text/plain": [
       "'₹49,900'"
      ]
     },
     "execution_count": 29,
     "metadata": {},
     "output_type": "execute_result"
    }
   ],
   "source": [
    "soup.find(\"div\",class_ =\"yRaY8j\").text"
   ]
  },
  {
   "cell_type": "code",
   "execution_count": 42,
   "id": "b91d0cce-4587-49ea-9ea9-a8b3b5fe272a",
   "metadata": {},
   "outputs": [
    {
     "name": "stdout",
     "output_type": "stream",
     "text": [
      "₹49,900\n",
      "₹49,900\n",
      "₹69,900\n",
      "₹59,900\n",
      "₹89,900\n",
      "₹20,999\n",
      "₹20,999\n",
      "₹20,999\n",
      "₹12,999\n",
      "₹12,999\n",
      "₹14,999\n"
     ]
    }
   ],
   "source": [
    "for con in soup.find_all(\"div\", class_=\"yRaY8j\"):\n",
    "    print(con.text)"
   ]
  },
  {
   "cell_type": "code",
   "execution_count": 3,
   "id": "e8b73f6d-0c0d-4177-9b85-03067b783baa",
   "metadata": {},
   "outputs": [],
   "source": [
    "import requests as r\n",
    "from bs4 \n"
   ]
  },
  {
   "cell_type": "code",
   "execution_count": null,
   "id": "56c2cb6b-2284-4524-b408-7dcc0a1cc762",
   "metadata": {},
   "outputs": [],
   "source": []
  }
 ],
 "metadata": {
  "kernelspec": {
   "display_name": "Python 3 (ipykernel)",
   "language": "python",
   "name": "python3"
  },
  "language_info": {
   "codemirror_mode": {
    "name": "ipython",
    "version": 3
   },
   "file_extension": ".py",
   "mimetype": "text/x-python",
   "name": "python",
   "nbconvert_exporter": "python",
   "pygments_lexer": "ipython3",
   "version": "3.12.7"
  }
 },
 "nbformat": 4,
 "nbformat_minor": 5
}
