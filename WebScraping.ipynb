{
 "cells": [
  {
   "cell_type": "code",
   "execution_count": 7,
   "id": "6b67f3bf-98b3-42df-9f5d-f2dc94177bd9",
   "metadata": {},
   "outputs": [],
   "source": [
    "import requests as r\n",
    "from bs4 import BeautifulSoup as bs\n",
    "import pandas as pd"
   ]
  },
  {
   "cell_type": "code",
   "execution_count": 8,
   "id": "40bca494-bc25-48c7-bd1a-9ac3cf13ec5c",
   "metadata": {},
   "outputs": [],
   "source": [
    "url = 'https://github.com/topics'"
   ]
  },
  {
   "cell_type": "code",
   "execution_count": 9,
   "id": "bfd849b2-326b-42a0-ba13-21f131fbe61b",
   "metadata": {},
   "outputs": [],
   "source": [
    "res = r.get(url)"
   ]
  },
  {
   "cell_type": "code",
   "execution_count": 10,
   "id": "42a2b35f-5d91-484f-9247-06ac0b997d3b",
   "metadata": {},
   "outputs": [
    {
     "data": {
      "text/plain": [
       "200"
      ]
     },
     "execution_count": 10,
     "metadata": {},
     "output_type": "execute_result"
    }
   ],
   "source": [
    "res.status_code"
   ]
  },
  {
   "cell_type": "code",
   "execution_count": 11,
   "id": "bedb9945-22b5-46b2-97ea-daac8e3857aa",
   "metadata": {},
   "outputs": [],
   "source": [
    "content = res.text"
   ]
  },
  {
   "cell_type": "code",
   "execution_count": 12,
   "id": "7e7769c4-2963-4ef9-86f9-e940c9725d3a",
   "metadata": {},
   "outputs": [
    {
     "data": {
      "text/plain": [
       "'\\n\\n<!DOCTYPE html>\\n<html\\n  lang=\"en\"\\n  \\n  data-color-mode=\"auto\" data-light-theme=\"light\" data-dark-theme=\"dark\"\\n  data-a11y-animated-images=\"system\" data-a11y-link-underlines=\"true\"\\n  \\n  >\\n\\n\\n\\n  <head>\\n    <meta charset=\"utf-8\">\\n  <link rel=\"dns-prefetch\" href=\"https://github.githubassets.com\">\\n  <link rel=\"dns-prefetch\" href=\"https://avatars.githubusercontent.com\">\\n  <link rel=\"dns-prefetch\" href=\"https://github-cloud.s3.amazonaws.com\">\\n  <link rel=\"dns-prefetch\" href=\"https://user-images.github'"
      ]
     },
     "execution_count": 12,
     "metadata": {},
     "output_type": "execute_result"
    }
   ],
   "source": [
    "content[:500]"
   ]
  },
  {
   "cell_type": "code",
   "execution_count": 13,
   "id": "fc35f68b-cd80-4065-aa71-02645bc5a998",
   "metadata": {},
   "outputs": [],
   "source": [
    "data = bs(content,'html.parser')"
   ]
  },
  {
   "cell_type": "code",
   "execution_count": 14,
   "id": "a809c0d4-44c4-4f4e-a700-77cea0eabf86",
   "metadata": {},
   "outputs": [
    {
     "data": {
      "text/plain": [
       "5"
      ]
     },
     "execution_count": 14,
     "metadata": {},
     "output_type": "execute_result"
    }
   ],
   "source": [
    "len(data)"
   ]
  },
  {
   "cell_type": "code",
   "execution_count": 15,
   "id": "ac748cf0-a063-4e24-9730-e70ba6193ad9",
   "metadata": {},
   "outputs": [],
   "source": [
    "doc=data.find_all('a',class_='no-underline flex-1 d-flex flex-column')"
   ]
  },
  {
   "cell_type": "code",
   "execution_count": 16,
   "id": "69f7947e-b8bf-4915-944e-2ac09f9a1dda",
   "metadata": {},
   "outputs": [],
   "source": [
    "topic_name = []\n",
    "topic_des= []\n",
    "topic_link= []"
   ]
  },
  {
   "cell_type": "code",
   "execution_count": 17,
   "id": "1792daac-efe4-424a-855c-9e1272c9c88a",
   "metadata": {},
   "outputs": [],
   "source": [
    "for val in doc:\n",
    "    topic_name.append(val.find('p').text)\n",
    "    topic_des.append(val.find_all('p')[1].text.strip())\n",
    "    topic_link.append(\"https://github.com\"+val['href'])"
   ]
  },
  {
   "cell_type": "code",
   "execution_count": 18,
   "id": "9d04ea51-c402-48cd-a956-ed65992309fe",
   "metadata": {},
   "outputs": [
    {
     "data": {
      "text/plain": [
       "(30, 30, 30)"
      ]
     },
     "execution_count": 18,
     "metadata": {},
     "output_type": "execute_result"
    }
   ],
   "source": [
    "len(topic_name), len(topic_des), len(topic_link)"
   ]
  },
  {
   "cell_type": "code",
   "execution_count": 19,
   "id": "5fa1cef2-e42b-4af9-b8d9-13fb9de633fb",
   "metadata": {},
   "outputs": [],
   "source": [
    "dic = {\n",
    "    'Topic_Name':topic_name,\n",
    "    'Topic_Description':topic_des,\n",
    "    'Topic_Link':topic_link\n",
    "\n",
    "    \n",
    "}"
   ]
  },
  {
   "cell_type": "code",
   "execution_count": 20,
   "id": "3ccc5e12-5aff-4571-9837-c1491bdb77e2",
   "metadata": {},
   "outputs": [],
   "source": [
    "df = pd.DataFrame(dic)"
   ]
  },
  {
   "cell_type": "code",
   "execution_count": 21,
   "id": "48d40105-dd1f-4592-a55a-4e5b340067eb",
   "metadata": {},
   "outputs": [
    {
     "data": {
      "text/html": [
       "<div>\n",
       "<style scoped>\n",
       "    .dataframe tbody tr th:only-of-type {\n",
       "        vertical-align: middle;\n",
       "    }\n",
       "\n",
       "    .dataframe tbody tr th {\n",
       "        vertical-align: top;\n",
       "    }\n",
       "\n",
       "    .dataframe thead th {\n",
       "        text-align: right;\n",
       "    }\n",
       "</style>\n",
       "<table border=\"1\" class=\"dataframe\">\n",
       "  <thead>\n",
       "    <tr style=\"text-align: right;\">\n",
       "      <th></th>\n",
       "      <th>Topic_Name</th>\n",
       "      <th>Topic_Description</th>\n",
       "      <th>Topic_Link</th>\n",
       "    </tr>\n",
       "  </thead>\n",
       "  <tbody>\n",
       "    <tr>\n",
       "      <th>0</th>\n",
       "      <td>3D</td>\n",
       "      <td>3D refers to the use of three-dimensional grap...</td>\n",
       "      <td>https://github.com/topics/3d</td>\n",
       "    </tr>\n",
       "    <tr>\n",
       "      <th>1</th>\n",
       "      <td>Ajax</td>\n",
       "      <td>Ajax is a technique for creating interactive w...</td>\n",
       "      <td>https://github.com/topics/ajax</td>\n",
       "    </tr>\n",
       "    <tr>\n",
       "      <th>2</th>\n",
       "      <td>Algorithm</td>\n",
       "      <td>Algorithms are self-contained sequences that c...</td>\n",
       "      <td>https://github.com/topics/algorithm</td>\n",
       "    </tr>\n",
       "    <tr>\n",
       "      <th>3</th>\n",
       "      <td>Amp</td>\n",
       "      <td>Amp is a non-blocking concurrency library for ...</td>\n",
       "      <td>https://github.com/topics/amphp</td>\n",
       "    </tr>\n",
       "  </tbody>\n",
       "</table>\n",
       "</div>"
      ],
      "text/plain": [
       "  Topic_Name                                  Topic_Description  \\\n",
       "0         3D  3D refers to the use of three-dimensional grap...   \n",
       "1       Ajax  Ajax is a technique for creating interactive w...   \n",
       "2  Algorithm  Algorithms are self-contained sequences that c...   \n",
       "3        Amp  Amp is a non-blocking concurrency library for ...   \n",
       "\n",
       "                            Topic_Link  \n",
       "0         https://github.com/topics/3d  \n",
       "1       https://github.com/topics/ajax  \n",
       "2  https://github.com/topics/algorithm  \n",
       "3      https://github.com/topics/amphp  "
      ]
     },
     "execution_count": 21,
     "metadata": {},
     "output_type": "execute_result"
    }
   ],
   "source": [
    "df.head(4)"
   ]
  },
  {
   "cell_type": "code",
   "execution_count": 22,
   "id": "5d1a68d7-0aff-4aec-bb2e-dd467bef786d",
   "metadata": {},
   "outputs": [],
   "source": [
    "user_name = []\n",
    "repo_name = []\n",
    "repo_link = []\n",
    "star = []"
   ]
  },
  {
   "cell_type": "code",
   "execution_count": 23,
   "id": "854023e6-406a-4e23-a539-439a440f0ec4",
   "metadata": {},
   "outputs": [],
   "source": [
    "for url in df['Topic_Link']:\n",
    "    data = bs(r.get(url).text,'html.parser')\n",
    "    val = data.find_all ('div',class_='d-flex flex-justify-between flex-items-start flex-wrap gap-2 my-3')\n",
    "    for doc in val:\n",
    "        name = doc.find('h3').find('a').text\n",
    "        user_name.append(name)\n",
    "        repo= doc.find('h3').find_all('a')[1].text\n",
    "        repo_name.append(repo)\n",
    "        repo_link.append('https://github.com/'+name+'/'+repo)\n",
    "        star.append(doc.find('span',{'id':'repo-stars-counter-star'})['title'])"
   ]
  },
  {
   "cell_type": "code",
   "execution_count": 42,
   "id": "8456e23f-fbf0-4fea-a0b0-8a6059fdd576",
   "metadata": {},
   "outputs": [],
   "source": [
    "dic ={\n",
    "    'Username':user_name,\n",
    "    'Repository_Name':repo_name,\n",
    "    'Repository_Link':repo_link,\n",
    "    'Rating':star\n",
    "}"
   ]
  },
  {
   "cell_type": "code",
   "execution_count": 44,
   "id": "9eec9807-53b6-45c0-b540-5c539ef8756c",
   "metadata": {},
   "outputs": [],
   "source": [
    "df = pd.DataFrame(dic)\n"
   ]
  },
  {
   "cell_type": "code",
   "execution_count": 46,
   "id": "eaad3ada-73be-405a-b7ab-c4842c88a12f",
   "metadata": {},
   "outputs": [
    {
     "data": {
      "text/plain": [
       "(600, 4)"
      ]
     },
     "execution_count": 46,
     "metadata": {},
     "output_type": "execute_result"
    }
   ],
   "source": [
    "df.shape"
   ]
  },
  {
   "cell_type": "code",
   "execution_count": 48,
   "id": "a86142ce-1863-4e41-a800-21bd0921cd0e",
   "metadata": {},
   "outputs": [
    {
     "data": {
      "text/html": [
       "<div>\n",
       "<style scoped>\n",
       "    .dataframe tbody tr th:only-of-type {\n",
       "        vertical-align: middle;\n",
       "    }\n",
       "\n",
       "    .dataframe tbody tr th {\n",
       "        vertical-align: top;\n",
       "    }\n",
       "\n",
       "    .dataframe thead th {\n",
       "        text-align: right;\n",
       "    }\n",
       "</style>\n",
       "<table border=\"1\" class=\"dataframe\">\n",
       "  <thead>\n",
       "    <tr style=\"text-align: right;\">\n",
       "      <th></th>\n",
       "      <th>Username</th>\n",
       "      <th>Repository_Name</th>\n",
       "      <th>Repository_Link</th>\n",
       "      <th>Rating</th>\n",
       "    </tr>\n",
       "  </thead>\n",
       "  <tbody>\n",
       "    <tr>\n",
       "      <th>0</th>\n",
       "      <td>mrdoob</td>\n",
       "      <td>three.js</td>\n",
       "      <td>https://github.com/mrdoob/three.js</td>\n",
       "      <td>105,659</td>\n",
       "    </tr>\n",
       "    <tr>\n",
       "      <th>1</th>\n",
       "      <td>pmndrs</td>\n",
       "      <td>react-three-fiber</td>\n",
       "      <td>https://github.com/pmndrs/react-three-fiber</td>\n",
       "      <td>28,631</td>\n",
       "    </tr>\n",
       "    <tr>\n",
       "      <th>2</th>\n",
       "      <td>BabylonJS</td>\n",
       "      <td>Babylon.js</td>\n",
       "      <td>https://github.com/BabylonJS/Babylon.js</td>\n",
       "      <td>23,934</td>\n",
       "    </tr>\n",
       "    <tr>\n",
       "      <th>3</th>\n",
       "      <td>libgdx</td>\n",
       "      <td>libgdx</td>\n",
       "      <td>https://github.com/libgdx/libgdx</td>\n",
       "      <td>23,918</td>\n",
       "    </tr>\n",
       "    <tr>\n",
       "      <th>4</th>\n",
       "      <td>FreeCAD</td>\n",
       "      <td>FreeCAD</td>\n",
       "      <td>https://github.com/FreeCAD/FreeCAD</td>\n",
       "      <td>23,892</td>\n",
       "    </tr>\n",
       "    <tr>\n",
       "      <th>...</th>\n",
       "      <td>...</td>\n",
       "      <td>...</td>\n",
       "      <td>...</td>\n",
       "      <td>...</td>\n",
       "    </tr>\n",
       "    <tr>\n",
       "      <th>595</th>\n",
       "      <td>elbywan</td>\n",
       "      <td>crystalline</td>\n",
       "      <td>https://github.com/elbywan/crystalline</td>\n",
       "      <td>471</td>\n",
       "    </tr>\n",
       "    <tr>\n",
       "      <th>596</th>\n",
       "      <td>will</td>\n",
       "      <td>crystal-pg</td>\n",
       "      <td>https://github.com/will/crystal-pg</td>\n",
       "      <td>466</td>\n",
       "    </tr>\n",
       "    <tr>\n",
       "      <th>597</th>\n",
       "      <td>martenframework</td>\n",
       "      <td>marten</td>\n",
       "      <td>https://github.com/martenframework/marten</td>\n",
       "      <td>435</td>\n",
       "    </tr>\n",
       "    <tr>\n",
       "      <th>598</th>\n",
       "      <td>imdrasil</td>\n",
       "      <td>jennifer.cr</td>\n",
       "      <td>https://github.com/imdrasil/jennifer.cr</td>\n",
       "      <td>422</td>\n",
       "    </tr>\n",
       "    <tr>\n",
       "      <th>599</th>\n",
       "      <td>vim-crystal</td>\n",
       "      <td>vim-crystal</td>\n",
       "      <td>https://github.com/vim-crystal/vim-crystal</td>\n",
       "      <td>420</td>\n",
       "    </tr>\n",
       "  </tbody>\n",
       "</table>\n",
       "<p>600 rows × 4 columns</p>\n",
       "</div>"
      ],
      "text/plain": [
       "            Username    Repository_Name  \\\n",
       "0             mrdoob           three.js   \n",
       "1             pmndrs  react-three-fiber   \n",
       "2          BabylonJS         Babylon.js   \n",
       "3             libgdx             libgdx   \n",
       "4            FreeCAD            FreeCAD   \n",
       "..               ...                ...   \n",
       "595          elbywan        crystalline   \n",
       "596             will         crystal-pg   \n",
       "597  martenframework             marten   \n",
       "598         imdrasil        jennifer.cr   \n",
       "599      vim-crystal        vim-crystal   \n",
       "\n",
       "                                 Repository_Link   Rating  \n",
       "0             https://github.com/mrdoob/three.js  105,659  \n",
       "1    https://github.com/pmndrs/react-three-fiber   28,631  \n",
       "2        https://github.com/BabylonJS/Babylon.js   23,934  \n",
       "3               https://github.com/libgdx/libgdx   23,918  \n",
       "4             https://github.com/FreeCAD/FreeCAD   23,892  \n",
       "..                                           ...      ...  \n",
       "595       https://github.com/elbywan/crystalline      471  \n",
       "596           https://github.com/will/crystal-pg      466  \n",
       "597    https://github.com/martenframework/marten      435  \n",
       "598      https://github.com/imdrasil/jennifer.cr      422  \n",
       "599   https://github.com/vim-crystal/vim-crystal      420  \n",
       "\n",
       "[600 rows x 4 columns]"
      ]
     },
     "execution_count": 48,
     "metadata": {},
     "output_type": "execute_result"
    }
   ],
   "source": [
    "df\n"
   ]
  },
  {
   "cell_type": "code",
   "execution_count": 50,
   "id": "20adb31b-7dc1-47c9-b7d7-de9d52916e4d",
   "metadata": {},
   "outputs": [],
   "source": [
    "df.to_csv(\"MyGitHubRepository.csv\",index=False)"
   ]
  },
  {
   "cell_type": "code",
   "execution_count": null,
   "id": "227009f0-cfca-401a-8803-98555c071a31",
   "metadata": {},
   "outputs": [],
   "source": []
  }
 ],
 "metadata": {
  "kernelspec": {
   "display_name": "Python 3 (ipykernel)",
   "language": "python",
   "name": "python3"
  },
  "language_info": {
   "codemirror_mode": {
    "name": "ipython",
    "version": 3
   },
   "file_extension": ".py",
   "mimetype": "text/x-python",
   "name": "python",
   "nbconvert_exporter": "python",
   "pygments_lexer": "ipython3",
   "version": "3.12.7"
  }
 },
 "nbformat": 4,
 "nbformat_minor": 5
}
